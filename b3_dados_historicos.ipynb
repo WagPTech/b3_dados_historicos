{
  "nbformat": 4,
  "nbformat_minor": 0,
  "metadata": {
    "colab": {
      "name": " b3_dados_historicos",
      "provenance": [],
      "collapsed_sections": [],
      "mount_file_id": "1RdnyBPWSaHd6dvSYw3shIQPkHFKislX1",
      "authorship_tag": "ABX9TyNIZXouWswnZSdNg3TBNFL7",
      "include_colab_link": true
    },
    "kernelspec": {
      "name": "python3",
      "display_name": "Python 3"
    },
    "language_info": {
      "name": "python"
    }
  },
  "cells": [
    {
      "cell_type": "markdown",
      "metadata": {
        "id": "view-in-github",
        "colab_type": "text"
      },
      "source": [
        "<a href=\"https://colab.research.google.com/github/WagPTech/b3_dados_historicos/blob/MySQL/b3_dados_historicos.ipynb\" target=\"_parent\"><img src=\"https://colab.research.google.com/assets/colab-badge.svg\" alt=\"Open In Colab\"/></a>"
      ]
    },
    {
      "cell_type": "code",
      "metadata": {
        "id": "rbE991fuQ1Ya"
      },
      "source": [
        "from datetime import datetime\n",
        "import pandas as pd\n",
        "\n",
        "b3 = open(\"/content/drive/MyDrive/Univesp/PI/b3_dados/Demo.txt\", 'r')\n",
        "#b3 = open(\"/content/drive/MyDrive/Univesp/PI/b3_dados/2012.txt\", 'r', encoding = \"ISO-8859-1\")\n",
        "b3.readline()\n",
        "ativos = []\n",
        "li = 0\n",
        "for linha in b3:\n",
        "  if linha[0:2] == '99':\n",
        "    print ('fim do arquivo')\n",
        "    break\n",
        "  if linha[10:12] == '02' and linha[24:27] == '010':\n",
        "    TIPREG=linha[0:2] #\n",
        "    DTPREG=datetime.strptime(linha[2:10], '%Y%m%d').date()\n",
        "    DTPRUT=datetime.strptime(linha[2:10], '%Y%m%d').timestamp()\n",
        "    CODBDI=linha[10:12]\n",
        "    CODNEG=(linha[12:24]).strip()\n",
        "    TPMERC=linha[24:27]\n",
        "    NOMRES=(linha[27:39]).strip()\n",
        "    ESPECI=(linha[39:49]).strip() #tratar espaços\n",
        "    PRAZOT=(linha[49:52]).strip()\n",
        "    MODREF=(linha[52:56]).strip()\n",
        "    PREABE=float(linha[56:69])/100\n",
        "    PREMAX=float(linha[69:82])/100\n",
        "    PREMIN=float(linha[82:95])/100\n",
        "    PREMED=float(linha[95:108])/100\n",
        "    PREULT=float(linha[108:121])/100\n",
        "    PREOFC=float(linha[121:134])/100\n",
        "    PREOFV=float(linha[134:147])/100\n",
        "    TOTNEG=int(linha[147:152])\n",
        "    QUATOT=int(linha[152:170])\n",
        "    VOLTOT=float(linha[170:188])\n",
        "    PREEXE=float(linha[188:201])/100\n",
        "    INDOPC=linha[201:202]\n",
        "    DATVEN=datetime.strptime(linha[202:210], '%Y%m%d').date()\n",
        "    FATCOT=linha[210:217]\n",
        "    PTOEXE=linha[217:230]\n",
        "    CODISI=linha[230:242]\n",
        "    DISMES=linha[242:245]\n",
        "  #print (TIPREG,DTPREG,CODBDI,CODNEG,TPMERC,NOMRES,ESPECI,PRAZOT,MODREF,PREABE,PREMAX,PREMIN,PREMED,PREULT,PREOFC,PREOFV,TOTNEG,QUATOT,VOLTOT,PREEXE,INDOPC,DATVEN,FATCOT,PTOEXE,CODISI,DISMES)\n",
        "    if CODNEG in ativos:\n",
        "      pass\n",
        "    else:\n",
        "      ativos.append(CODNEG)\n",
        "      li = li + 1\n",
        "      print (DTPREG, DTPRUT)\n",
        "print (len(ativos))\n",
        "print (ativos)\n"
      ],
      "execution_count": null,
      "outputs": []
    },
    {
      "cell_type": "code",
      "metadata": {
        "id": "RXaNidWtMZ-t"
      },
      "source": [
        ""
      ],
      "execution_count": null,
      "outputs": []
    },
    {
      "cell_type": "code",
      "metadata": {
        "colab": {
          "base_uri": "https://localhost:8080/"
        },
        "id": "tk4-0mSdy0z_",
        "outputId": "85f6db9b-8b4c-4902-aa25-a0fe1733c49e"
      },
      "source": [
        "ativo= (CODBDI,CODNEG,TPMERC,NOMRES,ESPECI,CODISI,DISMES)\n",
        "print (ativo)"
      ],
      "execution_count": 4,
      "outputs": [
        {
          "output_type": "stream",
          "name": "stdout",
          "text": [
            "('02', 'VAGV4', '010', 'VARIG', 'PN      N1', 'BRVAGVACNPR1', '131')\n"
          ]
        }
      ]
    },
    {
      "cell_type": "code",
      "metadata": {
        "id": "6_Qtf2A5xEIl"
      },
      "source": [
        "from datetime import datetime\n",
        "import pandas as pd\n",
        "#b3 = open(\"/content/drive/MyDrive/Univesp/PI/b3_dados/Demo.txt\", 'r')\n",
        "#b3 = open(\"/content/drive/MyDrive/Univesp/PI/b3_dados/2020.TXT\", 'r')\n",
        "anos = [i for i in range (1986, 2021)]\n",
        "ativos = []\n",
        "empresas = []\n",
        "for i in anos:\n",
        "  b3 = open(\"/content/drive/MyDrive/Univesp/PI/b3_dados/\" + str(i) + \".txt\", 'r', encoding = \"ISO-8859-1\")\n",
        "  b3.readline()\n",
        "  for linha in b3:\n",
        "    if linha[0:2] == '99':\n",
        "      print ('fim do arquivo ' + str(i) + \".txt\")\n",
        "      break\n",
        "    if linha[10:12] == '02' and linha[24:27] == '010':\n",
        "      CODNEG=(linha[12:24]).strip()\n",
        "      print (CODNEG)\n",
        "      PREABE=float(linha[56:69])/100\n",
        "      print (PREABE)\n",
        "      ESPECI=(linha[39:49]).strip()\n",
        "      print (ESPECI)\n",
        "      #NOMRES=(linha[27:39]).strip()\n",
        "      if CODNEG in ativos:\n",
        "        pass\n",
        "      else:\n",
        "        ativos.append(CODNEG)\n",
        "      #if NOMRES in empresas:\n",
        "       # pass\n",
        "      #else:\n",
        "       # empresas.append(NOMRES)\n",
        "    #print (len(ativos))\n",
        "print (ativos)\n",
        "print (len(ativos))\n",
        "print (empresas)\n",
        "print (len(empresas))"
      ],
      "execution_count": null,
      "outputs": []
    },
    {
      "cell_type": "code",
      "metadata": {
        "id": "-dYXvqm8MbT2"
      },
      "source": [
        "nomelist = str(i)\n",
        "for i in anos:\n",
        "  print (len(nomelist))"
      ],
      "execution_count": null,
      "outputs": []
    },
    {
      "cell_type": "code",
      "metadata": {
        "id": "o9rF76yrf1TQ"
      },
      "source": [
        "from datetime import datetime\n",
        "import pandas as pd\n",
        "#b3 = open(\"/content/drive/MyDrive/Univesp/PI/b3_dados/Demo.txt\", 'r')\n",
        "#b3 = open(\"/content/drive/MyDrive/Univesp/PI/b3_dados/2020.TXT\", 'r')\n",
        "anos = [i for i in range (1986, 2021)]\n",
        "ativos = []\n",
        "empresas = []\n",
        "dt_ativos = {}\n",
        "''\n",
        "\n",
        "for i in anos:\n",
        "  b3 = open(\"/content/drive/MyDrive/Univesp/PI/b3_dados/\" + str(i) + \".txt\", 'r', encoding = \"ISO-8859-1\")\n",
        "  b3.readline()\n",
        "  for linha in b3:\n",
        "    if linha[0:2] == '99':\n",
        "      print ('fim do arquivo ' + str(i) + \".txt\")\n",
        "      break\n",
        "    if linha[10:12] == '02' and linha[24:27] == '010':\n",
        "      CODNEG=(linha[12:24]).strip()\n",
        "      print (CODNEG)\n",
        "      PREABE=float(linha[56:69])/100\n",
        "      print (PREABE)\n",
        "      #NOMRES=(linha[27:39]).strip()\n",
        "      if CODNEG in ativos:\n",
        "        pass\n",
        "      else:\n",
        "        ativos.append(CODNEG)\n",
        "      #if NOMRES in empresas:\n",
        "       # pass\n",
        "      #else:\n",
        "       # empresas.append(NOMRES)\n",
        "    #print (len(ativos))\n",
        "print (ativos)\n",
        "print (len(ativos))\n",
        "print (empresas)\n",
        "print (len(empresas))"
      ],
      "execution_count": null,
      "outputs": []
    }
  ]
}
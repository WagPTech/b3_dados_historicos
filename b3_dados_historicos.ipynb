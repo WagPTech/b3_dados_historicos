{
  "nbformat": 4,
  "nbformat_minor": 0,
  "metadata": {
    "colab": {
      "name": " b3_dados_historicos",
      "provenance": [],
      "collapsed_sections": [],
      "mount_file_id": "1RdnyBPWSaHd6dvSYw3shIQPkHFKislX1",
      "authorship_tag": "ABX9TyNvDJ37ekkKTL7bAGpdT4JM",
      "include_colab_link": true
    },
    "kernelspec": {
      "name": "python3",
      "display_name": "Python 3"
    },
    "language_info": {
      "name": "python"
    }
  },
  "cells": [
    {
      "cell_type": "markdown",
      "metadata": {
        "id": "view-in-github",
        "colab_type": "text"
      },
      "source": [
        "<a href=\"https://colab.research.google.com/github/WagPTech/b3_dados_historicos/blob/MySQL/b3_dados_historicos.ipynb\" target=\"_parent\"><img src=\"https://colab.research.google.com/assets/colab-badge.svg\" alt=\"Open In Colab\"/></a>"
      ]
    },
    {
      "cell_type": "code",
      "metadata": {
        "id": "rbE991fuQ1Ya",
        "colab": {
          "base_uri": "https://localhost:8080/"
        },
        "outputId": "a916cf76-b162-47a7-bcb8-d93b2bd1528a"
      },
      "source": [
        "from datetime import datetime\n",
        "import pandas as pd\n",
        "\n",
        "b3 = open(\"/content/drive/MyDrive/Univesp/PI/b3_dados/Demo.txt\", 'r')\n",
        "#b3 = open(\"/content/drive/MyDrive/Univesp/PI/b3_dados/2012.txt\", 'r', encoding = \"ISO-8859-1\")\n",
        "b3.readline()\n",
        "ativos = []\n",
        "li = 0\n",
        "for linha in b3:\n",
        "  if linha[0:2] == '99':\n",
        "    print ('fim do arquivo')\n",
        "    break\n",
        "  if linha[10:12] == '02' and linha[24:27] == '010':\n",
        "    TIPREG=linha[0:2] #\n",
        "    DTPREG=datetime.strptime(linha[2:10], '%Y%m%d').date()\n",
        "    DTPRUT=datetime.strptime(linha[2:10], '%Y%m%d').timestamp()\n",
        "    CODBDI=linha[10:12]\n",
        "    CODNEG=(linha[12:24]).strip()\n",
        "    TPMERC=linha[24:27]\n",
        "    NOMRES=(linha[27:39]).strip()\n",
        "    ESPECI=(linha[39:49]).strip() #tratar espaços\n",
        "    PRAZOT=(linha[49:52]).strip()\n",
        "    MODREF=(linha[52:56]).strip()\n",
        "    PREABE=float(linha[56:69])/100\n",
        "    PREMAX=float(linha[69:82])/100\n",
        "    PREMIN=float(linha[82:95])/100\n",
        "    PREMED=float(linha[95:108])/100\n",
        "    PREULT=float(linha[108:121])/100\n",
        "    PREOFC=float(linha[121:134])/100\n",
        "    PREOFV=float(linha[134:147])/100\n",
        "    TOTNEG=int(linha[147:152])\n",
        "    QUATOT=int(linha[152:170])\n",
        "    VOLTOT=float(linha[170:188])\n",
        "    PREEXE=float(linha[188:201])/100\n",
        "    INDOPC=linha[201:202]\n",
        "    DATVEN=datetime.strptime(linha[202:210], '%Y%m%d').date()\n",
        "    FATCOT=linha[210:217]\n",
        "    PTOEXE=linha[217:230]\n",
        "    CODISI=linha[230:242]\n",
        "    DISMES=linha[242:245]\n",
        "  #print (TIPREG,DTPREG,CODBDI,CODNEG,TPMERC,NOMRES,ESPECI,PRAZOT,MODREF,PREABE,PREMAX,PREMIN,PREMED,PREULT,PREOFC,PREOFV,TOTNEG,QUATOT,VOLTOT,PREEXE,INDOPC,DATVEN,FATCOT,PTOEXE,CODISI,DISMES)\n",
        "    if CODNEG in ativos:\n",
        "      pass\n",
        "    else:\n",
        "      ativos.append(CODNEG)\n",
        "      li = li + 1\n",
        "      #print (DTPREG, DTPRUT)\n",
        "print (len(ativos))\n",
        "print (ativos)\n"
      ],
      "execution_count": null,
      "outputs": [
        {
          "output_type": "stream",
          "name": "stdout",
          "text": [
            "fim do arquivo\n",
            "179\n",
            "['VALE3', 'VALE5', 'RPSA4', 'SULT4', 'CBEE3', 'ELPL4', 'SLED4', 'ITSA4', 'ARTE4', 'ITSA3', 'ROMI4', 'RIPI4', 'UGPA3', 'DURA4', 'FFTL4', 'POMO4', 'UNIP6', 'EMBR4', 'EMBR3', 'TLPP4', 'TLPP3', 'FJTA4', 'CSTB4', 'CRTP5', 'RNPT3', 'TSEP4', 'TSEP3', 'TRPL4', 'BMTO4', 'EBTP4', 'CRUZ3', 'CMIG4', 'CMIG3', 'TRPL3', 'GOAU4', 'GGBR4', 'BELG4', 'BELG3', 'MAGS5', 'JBDU4', 'TPRC6', 'RAPT4', 'SAPR4', 'CEEB3', 'JBDU3', 'GGBR3', 'PQUN4', 'CNFB4', 'PLTO5', 'EBCO4', 'ROMI3', 'UBBR4', 'BRGE11', 'ITAU3', 'ITAU4', 'RPAD6', 'BBDC4', 'BBDC3', 'BMCT4', 'BRTO4', 'BRTO3', 'BRTP4', 'BRTP3', 'RCTB42', 'SDIA4', 'AMBV3', 'AELP3', 'ACES4', 'ACES3', 'ARCZ6', 'AMBV4', 'ASTA4', 'BDLL4', 'BCAL6', 'BBAS3', 'BAZA3', 'BESP4', 'BESP3', 'BIOM4', 'BRAP4', 'BRAP3', 'BOBR4', 'BNBR4', 'BRKM5', 'BSUL6', 'CCRO3', 'CEPE6', 'CEPE5', 'CEBR6', 'CEBR5', 'CHAP4', 'CHAP3', 'CGAS5', 'CESP4', 'CESP3', 'CMET4', 'CLSC6', 'CPFG3', 'COCE5', 'CPLE6', 'CPLE3', 'CSPC4', 'CSNA3', 'CTNM4', 'EBTP3', 'ELET3', 'EKTR4', 'EMAE4', 'ELET6', 'ESTR4', 'FESA4', 'FLCL6', 'FLCL5', 'GUAR4', 'IGBR5', 'IDNT3', 'IBOV11', 'INEP4', 'IGUA6', 'IGUA5', 'IGUA3', 'LAME4', 'KLBN4', 'LIGH3', 'MNSA4', 'MNSA3', 'MNPR4', 'MTSA4', 'MSAN4', 'MSAN3', 'PALF3', 'OSAO4', 'PETR3', 'PCAR4', 'PALF11', 'PMAM4', 'PLTO6', 'PLIM4', 'PLDN4', 'PETR4', 'PRGA4', 'PTQS4', 'PTIP4', 'RHDS3', 'SBSP3', 'SALM4', 'RSID3', 'SCAR3', 'SUZA4', 'TCOC4', 'TCOC3', 'TBLE3', 'SZPQ4', 'TELB3', 'TDBH4', 'TDBH3', 'TCSL4', 'TCSL3', 'TMAR5', 'TLCP4', 'TLCP3', 'TELB4', 'TNCP4', 'TNCP3', 'TMCP4', 'TMCP3', 'TOYB5', 'TNLP4', 'TNLP3', 'TNEP4', 'TNEP3', 'TSPP4', 'TSPP3', 'USIM6', 'USIM5', 'USIM3', 'UGPA4', 'VCPA4', 'VAGV4']\n"
          ]
        }
      ]
    },
    {
      "cell_type": "code",
      "metadata": {
        "colab": {
          "base_uri": "https://localhost:8080/"
        },
        "id": "tk4-0mSdy0z_",
        "outputId": "ba71edac-994e-4d69-98a3-0c123640ae5b"
      },
      "source": [
        "ativo= (CODBDI,CODNEG,TPMERC,NOMRES,ESPECI,CODISI,DISMES)\n",
        "print (ativo)"
      ],
      "execution_count": null,
      "outputs": [
        {
          "output_type": "stream",
          "name": "stdout",
          "text": [
            "('02', 'VAGV4', '010', 'VARIG', 'PN      N1', 'BRVAGVACNPR1', '131')\n"
          ]
        }
      ]
    },
    {
      "cell_type": "code",
      "metadata": {
        "id": "6_Qtf2A5xEIl"
      },
      "source": [
        "from datetime import datetime\n",
        "import pandas as pd\n",
        "#b3 = open(\"/content/drive/MyDrive/Univesp/PI/b3_dados/Demo.txt\", 'r')\n",
        "#b3 = open(\"/content/drive/MyDrive/Univesp/PI/b3_dados/2020.TXT\", 'r')\n",
        "anos = [i for i in range (1986, 2021)]\n",
        "ativos = []\n",
        "empresas = []\n",
        "for i in anos:\n",
        "  b3 = open(\"/content/drive/MyDrive/Univesp/PI/b3_dados/\" + str(i) + \".txt\", 'r', encoding = \"ISO-8859-1\")\n",
        "  b3.readline()\n",
        "  for linha in b3:\n",
        "    if linha[0:2] == '99':\n",
        "      print ('fim do arquivo ' + str(i) + \".txt\")\n",
        "      break\n",
        "    if linha[10:12] == '02' and linha[24:27] == '010':\n",
        "      CODNEG=(linha[12:24]).strip()\n",
        "      print (CODNEG)\n",
        "      PREABE=float(linha[56:69])/100\n",
        "      print (PREABE)\n",
        "      ESPECI=(linha[39:49]).strip()\n",
        "      print (ESPECI)\n",
        "      #NOMRES=(linha[27:39]).strip()\n",
        "      if CODNEG in ativos:\n",
        "        pass\n",
        "      else:\n",
        "        ativos.append(CODNEG)\n",
        "      #if NOMRES in empresas:\n",
        "       # pass\n",
        "      #else:\n",
        "       # empresas.append(NOMRES)\n",
        "    #print (len(ativos))\n",
        "print (ativos)\n",
        "print (len(ativos))\n",
        "print (empresas)\n",
        "print (len(empresas))"
      ],
      "execution_count": null,
      "outputs": []
    },
    {
      "cell_type": "code",
      "metadata": {
        "id": "-dYXvqm8MbT2"
      },
      "source": [
        "nomelist = str(i)\n",
        "for i in anos:\n",
        "  print (len(nomelist))"
      ],
      "execution_count": null,
      "outputs": []
    },
    {
      "cell_type": "code",
      "metadata": {
        "id": "o9rF76yrf1TQ"
      },
      "source": [
        "from datetime import datetime\n",
        "import pandas as pd\n",
        "#b3 = open(\"/content/drive/MyDrive/Univesp/PI/b3_dados/Demo.txt\", 'r')\n",
        "#b3 = open(\"/content/drive/MyDrive/Univesp/PI/b3_dados/2020.TXT\", 'r')\n",
        "anos = [i for i in range (1986, 2021)]\n",
        "ativos = []\n",
        "empresas = []\n",
        "dt_ativos = {}\n",
        "\n",
        "for i in anos:\n",
        "  b3 = open(\"/content/drive/MyDrive/Univesp/PI/b3_dados/\" + str(i) + \".txt\", 'r', encoding = \"ISO-8859-1\")\n",
        "  b3.readline()\n",
        "  for linha in b3:\n",
        "    if linha[0:2] == '99':\n",
        "      print ('fim do arquivo ' + str(i) + \".txt\")\n",
        "      break\n",
        "    if linha[10:12] == '02' and linha[24:27] == '010':\n",
        "      CODNEG=(linha[12:24]).strip()\n",
        "      #print (CODNEG)\n",
        "      PREABE=float(linha[56:69])/100\n",
        "      #print (PREABE)\n",
        "      #NOMRES=(linha[27:39]).strip()\n",
        "      if CODNEG in ativos:\n",
        "        pass\n",
        "      else:\n",
        "        ativos.append(CODNEG)\n",
        "      #if NOMRES in empresas:\n",
        "       # pass\n",
        "      #else:\n",
        "       # empresas.append(NOMRES)\n",
        "    #print (len(ativos))\n",
        "#print (ativos)\n",
        "print (len(ativos))\n",
        "#print (empresas)\n",
        "print (len(empresas))"
      ],
      "execution_count": null,
      "outputs": []
    },
    {
      "cell_type": "code",
      "metadata": {
        "id": "uQCKYwa23r6r"
      },
      "source": [
        "from datetime import datetime\n",
        "#import pandas as pd\n",
        "import mysql.connector\n",
        "\n",
        "cnx = mysql.connector.connect(user='xxxxxx', password='*******', host='localhost', database='univesp', use_pure=True)\n",
        "#cursor = cnx.cursor()\n",
        "\n",
        "anos = [i for i in range (1986, 2020)] #1986, 2021\n",
        "ativos = []\n",
        "\n",
        "for i in anos:\n",
        "\n",
        "  b3 = open(\"/home/jhanks/b3/dadosbrutos/\" + str(i) + \".txt\", 'r', encoding = \"ISO-8859-1\")\n",
        "  b3.readline()\n",
        "  for linha in b3:\n",
        "    if linha[0:2] == '99':\n",
        "      print ('fim do arquivo ' + str(i) + \".txt\")\n",
        "      break\n",
        "    if linha[10:12] == '02' and linha[24:27] == '010':\n",
        "        CODBDI=linha[10:12]\n",
        "        CODNEG=(linha[12:24]).strip()\n",
        "        TPMERC=linha[24:27]\n",
        "        NOMRES=(linha[27:39]).strip()\n",
        "        ESPECI=(linha[39:49]).strip() #tratar espaços\n",
        "        MODREF=(linha[52:56]).strip()\n",
        "        FATCOT=linha[210:217]\n",
        "        CODISI=linha[230:242]\n",
        "    if CODNEG in ativos:\n",
        "        pass\n",
        "    else:\n",
        "        ativos.append(CODNEG)\n",
        "        cursor=cnx.cursor()\n",
        "        confere = \"SELECT CODNEG FROM ativos WHERE CODNEG = '\"+ CODNEG +\"';\"\n",
        "        cursor.execute(confere)\n",
        "        resposta = cursor.fetchall()\n",
        "        if len(resposta)!=0: #ve se tem retorno\n",
        "            pass\n",
        "            #print (\"já existe\")\n",
        "        else:\n",
        "            sql = \"INSERT INTO ativos (CODBDI, CODNEG ,TPMERC, NOMRES, ESPECI, MODREF, FATCOT, CODISI) VALUE(\"\"'\" + CODBDI + \"','\" + CODNEG + \"','\" + TPMERC + \"','\" + NOMRES + \"','\" + ESPECI + \"','\" + MODREF + \"','\" + FATCOT + \"','\" + CODISI + \"')\"\n",
        "            #cursor=cnx.cursor()\n",
        "            #print (sql)\n",
        "            cursor.execute(sql)\n",
        "            cnx.commit()\n",
        "cursor.close()\n",
        "cnx.close()\n",
        "\n",
        "print (len(ativos))\n"
      ],
      "execution_count": null,
      "outputs": []
    }
  ]
}